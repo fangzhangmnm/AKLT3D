{
 "cells": [
  {
   "cell_type": "code",
   "execution_count": 1,
   "metadata": {},
   "outputs": [],
   "source": [
    "from TNModels import get_Lxyz"
   ]
  },
  {
   "cell_type": "code",
   "execution_count": 2,
   "metadata": {},
   "outputs": [],
   "source": [
    "Lx,iLy,Lz=get_Lxyz(j=3)"
   ]
  },
  {
   "cell_type": "code",
   "execution_count": 7,
   "metadata": {},
   "outputs": [
    {
     "data": {
      "text/plain": [
       "(tensor([[0.0000, 1.2247, 0.0000, 0.0000, 0.0000, 0.0000, 0.0000],\n",
       "         [1.2247, 0.0000, 1.5811, 0.0000, 0.0000, 0.0000, 0.0000],\n",
       "         [0.0000, 1.5811, 0.0000, 1.7321, 0.0000, 0.0000, 0.0000],\n",
       "         [0.0000, 0.0000, 1.7321, 0.0000, 1.7321, 0.0000, 0.0000],\n",
       "         [0.0000, 0.0000, 0.0000, 1.7321, 0.0000, 1.5811, 0.0000],\n",
       "         [0.0000, 0.0000, 0.0000, 0.0000, 1.5811, 0.0000, 1.2247],\n",
       "         [0.0000, 0.0000, 0.0000, 0.0000, 0.0000, 1.2247, 0.0000]]),\n",
       " tensor([[ 0.0000, -1.2247,  0.0000,  0.0000,  0.0000,  0.0000,  0.0000],\n",
       "         [ 1.2247,  0.0000, -1.5811,  0.0000,  0.0000,  0.0000,  0.0000],\n",
       "         [ 0.0000,  1.5811,  0.0000, -1.7321,  0.0000,  0.0000,  0.0000],\n",
       "         [ 0.0000,  0.0000,  1.7321,  0.0000, -1.7321,  0.0000,  0.0000],\n",
       "         [ 0.0000,  0.0000,  0.0000,  1.7321,  0.0000, -1.5811,  0.0000],\n",
       "         [ 0.0000,  0.0000,  0.0000,  0.0000,  1.5811,  0.0000, -1.2247],\n",
       "         [ 0.0000,  0.0000,  0.0000,  0.0000,  0.0000,  1.2247,  0.0000]]),\n",
       " tensor([[-3.,  0.,  0.,  0.,  0.,  0.,  0.],\n",
       "         [ 0., -2.,  0.,  0.,  0.,  0.,  0.],\n",
       "         [ 0.,  0., -1.,  0.,  0.,  0.,  0.],\n",
       "         [ 0.,  0.,  0.,  0.,  0.,  0.,  0.],\n",
       "         [ 0.,  0.,  0.,  0.,  1.,  0.,  0.],\n",
       "         [ 0.,  0.,  0.,  0.,  0.,  2.,  0.],\n",
       "         [ 0.,  0.,  0.,  0.,  0.,  0.,  3.]]))"
      ]
     },
     "execution_count": 7,
     "metadata": {},
     "output_type": "execute_result"
    }
   ],
   "source": [
    "Lx,iLy,Lz"
   ]
  },
  {
   "cell_type": "code",
   "execution_count": null,
   "metadata": {},
   "outputs": [],
   "source": []
  }
 ],
 "metadata": {
  "kernelspec": {
   "display_name": "tf-gpu",
   "language": "python",
   "name": "python3"
  },
  "language_info": {
   "codemirror_mode": {
    "name": "ipython",
    "version": 3
   },
   "file_extension": ".py",
   "mimetype": "text/x-python",
   "name": "python",
   "nbconvert_exporter": "python",
   "pygments_lexer": "ipython3",
   "version": "3.9.15"
  },
  "orig_nbformat": 4
 },
 "nbformat": 4,
 "nbformat_minor": 2
}
