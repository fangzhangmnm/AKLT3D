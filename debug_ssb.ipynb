{
 "cells": [
  {
   "cell_type": "code",
   "execution_count": 1,
   "metadata": {},
   "outputs": [],
   "source": [
    "from opt_einsum import contract # idk why but its required to avoid bug in contract with numpy arrays\n",
    "import torch\n",
    "import numpy as np\n",
    "from tqdm.auto import tqdm\n",
    "torch.set_default_tensor_type(torch.cuda.DoubleTensor)\n",
    "device=torch.device('cuda:0')\n",
    "torch.cuda.set_device(device)\n"
   ]
  },
  {
   "cell_type": "code",
   "execution_count": null,
   "metadata": {},
   "outputs": [],
   "source": []
  },
  {
   "cell_type": "code",
   "execution_count": 2,
   "metadata": {},
   "outputs": [],
   "source": [
    "from TNModels import AKLT3D\n",
    "# import importlib;import HOTRG;importlib.reload(HOTRG)\n",
    "from HOTRG import HOTRG_layers,forward_observalbe_tensor_moments,trace_tensor,trace_two_tensors,forward_observable_tensor"
   ]
  },
  {
   "cell_type": "code",
   "execution_count": 4,
   "metadata": {},
   "outputs": [
    {
     "name": "stdout",
     "output_type": "stream",
     "text": [
      "2\n",
      "Generating HOTRG layers\n"
     ]
    },
    {
     "data": {
      "application/vnd.jupyter.widget-view+json": {
       "model_id": "4e8e18dc9d2f46ddbdaf979b1d6bef4c",
       "version_major": 2,
       "version_minor": 0
      },
      "text/plain": [
       "  0%|          | 0/15 [00:00<?, ?it/s]"
      ]
     },
     "metadata": {},
     "output_type": "display_data"
    },
    {
     "name": "stdout",
     "output_type": "stream",
     "text": [
      "HOTRG layers generated\n",
      "[1.1757127162748148e-31, 0.003610471979310956, 9177.467559955967, 9015.089967074526, 0.006027815758769782, 0.0032364906452120017, 0.0033724479060480016, 0.0023514035157004916, 0.0012957484072635022, 0.0010322470431337132, 0.0011740796330449617, 0.003070562547837459, 0.023475210475967442, 0.10839803533357828, 0.11654556625855127, 0.1218154809553]\n"
     ]
    },
    {
     "data": {
      "application/vnd.jupyter.widget-view+json": {
       "model_id": "11ec568e2e654280989e705a23800dd5",
       "version_major": 2,
       "version_minor": 0
      },
      "text/plain": [
       "0it [00:00, ?it/s]"
      ]
     },
     "metadata": {},
     "output_type": "display_data"
    },
    {
     "data": {
      "application/vnd.jupyter.widget-view+json": {
       "model_id": "c85ee873403a4e8595f4f5b400e34397",
       "version_major": 2,
       "version_minor": 0
      },
      "text/plain": [
       "  0%|          | 0/15 [00:00<?, ?it/s]"
      ]
     },
     "metadata": {},
     "output_type": "display_data"
    },
    {
     "name": "stdout",
     "output_type": "stream",
     "text": [
      "[0.0, -1.724216931841406, -9.480236461198036e-32, 3.5627678282342966e-32, 1.8775530460283522e-32, 1.8683243167003216e-32, 1.7972883148941855e-32, 1.656579171906588e-32, 1.4999154597108604e-32, 1.2037949775223091e-32, 7.538331517850672e-33, 1.9942611793489207e-33, 2.0830802820524406e-35, 7.263421987775642e-36, 3.308153742650005e-36, 1.8744316382022968e-36]\n"
     ]
    },
    {
     "data": {
      "application/vnd.jupyter.widget-view+json": {
       "model_id": "8527496f789145e0acb92d2a8b512a2e",
       "version_major": 2,
       "version_minor": 0
      },
      "text/plain": [
       "0it [00:00, ?it/s]"
      ]
     },
     "metadata": {},
     "output_type": "display_data"
    },
    {
     "data": {
      "application/vnd.jupyter.widget-view+json": {
       "model_id": "1caa0597b43b4d2abd5b0f3a1f8c330a",
       "version_major": 2,
       "version_minor": 0
      },
      "text/plain": [
       "  0%|          | 0/15 [00:00<?, ?it/s]"
      ]
     },
     "metadata": {},
     "output_type": "display_data"
    },
    {
     "name": "stdout",
     "output_type": "stream",
     "text": [
      "[-115.4351243732837, -2.007612135423252, -3.025316047434027, 2.890064509722311, 2.9692150454972603, 2.9513549407734883, 2.805853053432228, 2.6729959805531904, 2.4231611964242483, 1.9509062773469539, 1.2222735013306238, 0.3195608065475881, 0.0032699581621740254, 0.0012576984592748248, 0.00040972887348310447, 0.00011747558698788714]\n"
     ]
    },
    {
     "data": {
      "application/vnd.jupyter.widget-view+json": {
       "model_id": "3a4c5601f4cb4beb9739bec6e00de374",
       "version_major": 2,
       "version_minor": 0
      },
      "text/plain": [
       "0it [00:00, ?it/s]"
      ]
     },
     "metadata": {},
     "output_type": "display_data"
    },
    {
     "data": {
      "application/vnd.jupyter.widget-view+json": {
       "model_id": "991ff30a64944393a20752c4494c6b8d",
       "version_major": 2,
       "version_minor": 0
      },
      "text/plain": [
       "  0%|          | 0/15 [00:00<?, ?it/s]"
      ]
     },
     "metadata": {},
     "output_type": "display_data"
    },
    {
     "name": "stdout",
     "output_type": "stream",
     "text": [
      "[115.43512437328374, 2.0076121354232463, 3.0821448347256344, -3.0207758538330434, -2.993396445436277, -2.988411595971841, -2.9336747441703532, -3.0063600709943556, -3.16660985500066, -3.6126862668619917, -4.347286401084834, -5.285368576869955, -5.6023299803168065, -5.603249339957013, -5.603604327733268, -5.603636953023033]\n"
     ]
    }
   ],
   "source": [
    "params=AKLT3D.get_default_params()\n",
    "# +.008\n",
    "params['a1']=2\n",
    "print(params['a1'])\n",
    "T0=AKLT3D(params).get_T0()\n",
    "layers,Ts,logTotals=HOTRG_layers(T0,max_dim=10,nLayers=15,options={'mcf_enabled':True,'gilt_enabled':False,'mcf_fix_unitary_enabled':True})\n",
    "_=[trace_two_tensors(T).item() for T in Ts]\n",
    "print(_)\n",
    "\n",
    "\n",
    "Y0,checkerboard=AKLT3D(params).get_observable('magnetizationZ')\n",
    "_,T_ops,_=forward_observable_tensor(T0,Y0,layers,checkerboard=checkerboard,return_layers=True,cached_Ts=Ts)\n",
    "_=[(trace_two_tensors(T_op).item(),trace_two_tensors(T).item()) for T_op,T in zip(T_ops,Ts)]\n",
    "print([(_[0]/_[1] if _[1]!=0 else 0) for _ in _])\n",
    "\n",
    "\n",
    "Y0,checkerboard=AKLT3D(params).get_observable('magnetizationX')\n",
    "checkerboard=True\n",
    "_,T_ops,_=forward_observable_tensor(T0,Y0,layers,checkerboard=checkerboard,return_layers=True,cached_Ts=Ts)\n",
    "_=[(trace_two_tensors(T_op).item(),trace_two_tensors(T).item()) for T_op,T in zip(T_ops,Ts)]\n",
    "print([(_[0]/_[1] if _[1]!=0 else 0) for _ in _])\n",
    "\n",
    "Y0,checkerboard=AKLT3D(params).get_observable('magnetizationY')\n",
    "checkerboard=True\n",
    "_,T_ops,_=forward_observable_tensor(T0,Y0,layers,checkerboard=checkerboard,return_layers=True,cached_Ts=Ts)\n",
    "_=[(trace_two_tensors(T_op).item(),trace_two_tensors(T).item()) for T_op,T in zip(T_ops,Ts)]\n",
    "print([(_[0]/_[1] if _[1]!=0 else 0) for _ in _])\n",
    "\n"
   ]
  },
  {
   "cell_type": "code",
   "execution_count": null,
   "metadata": {},
   "outputs": [],
   "source": [
    "\n",
    "\n",
    "# params=AKLT3D.get_default_params()\n",
    "# params['a1']+=.008\n",
    "# print(params['a1'])\n",
    "# T0=AKLT3D(params).get_T0()\n",
    "# layers,Ts,logTotals=HOTRG_layers(T0,max_dim=10,nLayers=15,options={'mcf_enabled':True,'gilt_enabled':False,'mcf_fix_unitary_enabled':True})\n",
    "# _=[trace_two_tensors(T).item() for T in Ts]\n",
    "# print(_)\n"
   ]
  },
  {
   "cell_type": "code",
   "execution_count": 3,
   "metadata": {},
   "outputs": [],
   "source": [
    "import importlib;import transfer_matrix;importlib.reload(transfer_matrix)\n",
    "from transfer_matrix import get_scdims,get_transfer_matrix_operator\n",
    "# "
   ]
  },
  {
   "cell_type": "code",
   "execution_count": null,
   "metadata": {},
   "outputs": [],
   "source": [
    "from TNModels import AKLT3D\n",
    "import importlib;import HOTRG;importlib.reload(HOTRG)\n",
    "from HOTRG import HOTRG_layers,forward_observalbe_tensor_moments,trace_tensor,trace_two_tensors\n",
    "\n",
    "params=AKLT3D.get_default_params()\n",
    "params['a1']+=.008\n",
    "params['a1']\n",
    "T0=AKLT3D(params).get_T0()\n",
    "layers,Ts,logTotals=HOTRG_layers(T0,max_dim=10,nLayers=15,options={'mcf_enabled':False,'gilt_enabled':False,'mcf_fix_unitary_enabled':False})\n",
    "Y0,checkerboard=AKLT3D(params).get_observable('magnetizationZ')\n",
    "T_op_momentss,logTotals=forward_observalbe_tensor_moments([T0,Y0],layers,checkerboard=checkerboard,return_layers=True,cached_Ts=Ts)\n",
    "_=[(trace_two_tensors(Y).item(),trace_two_tensors(T).item()) for T,Y in T_op_momentss[:]]\n",
    "[((_[0]/_[1] if _[1]!=0 else 0),_[1]) for _ in _]"
   ]
  },
  {
   "cell_type": "code",
   "execution_count": 4,
   "metadata": {},
   "outputs": [
    {
     "data": {
      "application/vnd.jupyter.widget-view+json": {
       "model_id": "f2b8fd525cbf4b5c92a357b2c0894eaf",
       "version_major": 2,
       "version_minor": 0
      },
      "text/plain": [
       "0it [00:00, ?it/s]"
      ]
     },
     "metadata": {},
     "output_type": "display_data"
    },
    {
     "data": {
      "application/vnd.jupyter.widget-view+json": {
       "model_id": "4fffadf1a95b4ed0a5072f26ae297a48",
       "version_major": 2,
       "version_minor": 0
      },
      "text/plain": [
       "0it [00:00, ?it/s]"
      ]
     },
     "metadata": {},
     "output_type": "display_data"
    },
    {
     "data": {
      "application/vnd.jupyter.widget-view+json": {
       "model_id": "51c060796c5647f0bc3b3927e048d770",
       "version_major": 2,
       "version_minor": 0
      },
      "text/plain": [
       "0it [00:00, ?it/s]"
      ]
     },
     "metadata": {},
     "output_type": "display_data"
    },
    {
     "data": {
      "application/vnd.jupyter.widget-view+json": {
       "model_id": "b756d082888d461b88b843fff513eac6",
       "version_major": 2,
       "version_minor": 0
      },
      "text/plain": [
       "0it [00:00, ?it/s]"
      ]
     },
     "metadata": {},
     "output_type": "display_data"
    },
    {
     "data": {
      "application/vnd.jupyter.widget-view+json": {
       "model_id": "ee39471eb88144c3a75c7afc38be1ef3",
       "version_major": 2,
       "version_minor": 0
      },
      "text/plain": [
       "0it [00:00, ?it/s]"
      ]
     },
     "metadata": {},
     "output_type": "display_data"
    },
    {
     "data": {
      "application/vnd.jupyter.widget-view+json": {
       "model_id": "3df45c26c5bd47ddba517558d7a763a1",
       "version_major": 2,
       "version_minor": 0
      },
      "text/plain": [
       "0it [00:00, ?it/s]"
      ]
     },
     "metadata": {},
     "output_type": "display_data"
    },
    {
     "data": {
      "text/plain": [
       "[tensor([0.0000, 0.1497]),\n",
       " tensor([0.0000, 0.1050, 0.1050, 0.1331, 0.2980]),\n",
       " tensor([0.0000, 0.0371, 0.0371, 0.0632, 0.1074]),\n",
       " tensor([0.0000, 0.0027, 0.0165, 0.0165, 0.0181]),\n",
       " tensor([0.0000, 0.0116, 0.0136, 0.0136, 0.0136]),\n",
       " tensor([0.0000, 0.0024, 0.0024, 0.0025, 0.0025])]"
      ]
     },
     "execution_count": 4,
     "metadata": {},
     "output_type": "execute_result"
    }
   ],
   "source": [
    "scdimss=[get_scdims(T,n=(1,1),k=5)[0] for T in Ts[::3]]\n",
    "scdimss"
   ]
  },
  {
   "cell_type": "code",
   "execution_count": 45,
   "metadata": {},
   "outputs": [
    {
     "data": {
      "text/plain": [
       "tensor([0.0000, 0.1497])"
      ]
     },
     "execution_count": 45,
     "metadata": {},
     "output_type": "execute_result"
    }
   ],
   "source": []
  },
  {
   "cell_type": "code",
   "execution_count": null,
   "metadata": {},
   "outputs": [],
   "source": []
  }
 ],
 "metadata": {
  "kernelspec": {
   "display_name": "tf-gpu",
   "language": "python",
   "name": "python3"
  },
  "language_info": {
   "codemirror_mode": {
    "name": "ipython",
    "version": 3
   },
   "file_extension": ".py",
   "mimetype": "text/x-python",
   "name": "python",
   "nbconvert_exporter": "python",
   "pygments_lexer": "ipython3",
   "version": "3.9.15"
  },
  "orig_nbformat": 4
 },
 "nbformat": 4,
 "nbformat_minor": 2
}
