{
 "cells": [
  {
   "cell_type": "code",
   "execution_count": 20,
   "metadata": {},
   "outputs": [
    {
     "name": "stderr",
     "output_type": "stream",
     "text": [
      "/home/wenhan/anaconda3/envs/tf-gpu/lib/python3.9/site-packages/torch/cuda/__init__.py:497: UserWarning: Can't initialize NVML\n",
      "  warnings.warn(\"Can't initialize NVML\")\n"
     ]
    }
   ],
   "source": [
    "from opt_einsum import contract # idk why but its required to avoid bug in contract with numpy arrays\n",
    "import torch\n",
    "import numpy as np\n",
    "from tqdm.auto import tqdm\n",
    "torch.set_default_tensor_type(torch.cuda.DoubleTensor)\n",
    "device=torch.device('cuda:0')\n",
    "torch.cuda.set_device(device)"
   ]
  },
  {
   "cell_type": "code",
   "execution_count": 21,
   "metadata": {},
   "outputs": [],
   "source": [
    "import importlib\n",
    "import HOTRG; importlib.reload(HOTRG)\n",
    "import TNModels; importlib.reload(TNModels)\n",
    "\n",
    "\n",
    "from HOTRG import HOTRG_layers,forward_observable_tensor,trace_two_tensors,trace_tensor,forward_observalbe_tensor_moments\n",
    "from TNModels import Models"
   ]
  },
  {
   "attachments": {},
   "cell_type": "markdown",
   "metadata": {},
   "source": [
    "# scdims"
   ]
  },
  {
   "cell_type": "code",
   "execution_count": 22,
   "metadata": {},
   "outputs": [
    {
     "name": "stdout",
     "output_type": "stream",
     "text": [
      "Generating HOTRG layers\n"
     ]
    },
    {
     "data": {
      "application/vnd.jupyter.widget-view+json": {
       "model_id": "ca7b68177e2d4632ad50d9c85219dc60",
       "version_major": 2,
       "version_minor": 0
      },
      "text/plain": [
       "  0%|          | 0/30 [00:00<?, ?it/s]"
      ]
     },
     "metadata": {},
     "output_type": "display_data"
    },
    {
     "name": "stdout",
     "output_type": "stream",
     "text": [
      "HOTRG layers generated\n"
     ]
    }
   ],
   "source": [
    "Model=Models['Ising2D']\n",
    "options={'max_dim':16,'nLayers':30,'gilt_enabled':True,'mcf_enabled':True}\n",
    "model=Model()\n",
    "T=model.get_T0()\n",
    "layers,Ts,logTotals=HOTRG_layers(T,\n",
    "                            max_dim=options['max_dim'],nLayers=options['nLayers'],\n",
    "                            options=options)\n",
    "T=Ts[10]"
   ]
  },
  {
   "cell_type": "code",
   "execution_count": 228,
   "metadata": {},
   "outputs": [
    {
     "data": {
      "application/vnd.jupyter.widget-view+json": {
       "model_id": "a2a4fc4e11d44f66a822c7e846bc502c",
       "version_major": 2,
       "version_minor": 0
      },
      "text/plain": [
       "0it [00:00, ?it/s]"
      ]
     },
     "metadata": {},
     "output_type": "display_data"
    },
    {
     "data": {
      "text/plain": [
       "tensor([0.0000, 0.1251, 1.0055, 1.1312, 1.1316, 2.0172, 2.0200, 2.0207, 2.0265,\n",
       "        2.1469])"
      ]
     },
     "execution_count": 228,
     "metadata": {},
     "output_type": "execute_result"
    }
   ],
   "source": [
    "from scipy.sparse.linalg import LinearOperator,eigs\n",
    "def wrap_pytorch(func):\n",
    "    return lambda v:func(torch.tensor(v)).detach().cpu().numpy()\n",
    "\n",
    "def wrap_pbar(pbar):\n",
    "    return lambda func: lambda *args, **kwargs: (func(*args, **kwargs), pbar.update(1))[0]\n",
    "\n",
    "def get_transfer_matrix(T,n=2):\n",
    "    bond_dim=T.shape[0]\n",
    "    bond_dim1=T.shape[2]\n",
    "    pbar=tqdm()\n",
    "    @wrap_pbar(pbar)\n",
    "    @wrap_pytorch\n",
    "    def matvec(v):\n",
    "        #     1 2 3\n",
    "        #(-3)-T-|-|-(-4)\n",
    "        #     [ v ] \n",
    "        v=contract('ij,...->ij...',torch.eye(bond_dim1),v.reshape((bond_dim,)*n))\n",
    "        for i in range(n):\n",
    "            idx1=[-3,-5]+list(-2 if j==i else j for j in range(n))\n",
    "            idx2=[-1,-2,-5,-4]\n",
    "            idx3=[-3,-4]+list(-1 if j==i else j for j in range(n))\n",
    "            v=contract(v,idx1,T,idx2,idx3)\n",
    "        return contract('ii...->...',v).flatten()\n",
    "    @wrap_pbar(pbar)\n",
    "    @wrap_pytorch\n",
    "    def rmatvec(v):\n",
    "        v=contract('ij,...->ij...',torch.eye(bond_dim1),v.reshape((bond_dim,)*n))\n",
    "        for i in range(n):\n",
    "            idx1=[-3,-5]+list(-1 if j==i else j for j in range(n))\n",
    "            idx2=[-1,-2,-5,-4]\n",
    "            idx3=[-3,-4]+list(-2 if j==i else j for j in range(n))\n",
    "            v=contract(v,idx1,T.conj(),idx2,idx3)\n",
    "        return contract('ii...->...',v).flatten()\n",
    "    return LinearOperator(shape=(bond_dim**n,bond_dim**n),matvec=matvec,rmatvec=rmatvec)\n",
    "\n",
    "def get_scdims(T,n=2,k=10,output_vectors=True):\n",
    "    M=get_transfer_matrix(T,n)\n",
    "    s,u=eigs(M,k=k)\n",
    "    u,s=torch.tensor(u),torch.tensor(s)\n",
    "    s,u=s.abs()[s.abs().argsort(descending=True)],u[:,s.abs().argsort(descending=True)]\n",
    "    scaling=np.exp(2*np.pi/n)\n",
    "    scdims=torch.log(s/s[0]).abs()/torch.log(torch.as_tensor(scaling))\n",
    "    eigvecs=u.T\n",
    "    if output_vectors:\n",
    "        return scdims,eigvecs\n",
    "    else:\n",
    "        return scdims\n",
    "    \n",
    "get_scdims(T,n=2,k=10)[0]"
   ]
  },
  {
   "attachments": {},
   "cell_type": "markdown",
   "metadata": {},
   "source": [
    "# scan binder"
   ]
  },
  {
   "cell_type": "code",
   "execution_count": 28,
   "metadata": {},
   "outputs": [
    {
     "data": {
      "text/plain": [
       "2"
      ]
     },
     "execution_count": 28,
     "metadata": {},
     "output_type": "execute_result"
    }
   ],
   "source": [
    "len(model.get_observable_moments('magnetization',n=4))"
   ]
  },
  {
   "cell_type": "code",
   "execution_count": 29,
   "metadata": {},
   "outputs": [
    {
     "data": {
      "application/vnd.jupyter.widget-view+json": {
       "model_id": "af62b399f17d41d2b54b48c5432a964b",
       "version_major": 2,
       "version_minor": 0
      },
      "text/plain": [
       "  0%|          | 0/11 [00:00<?, ?it/s]"
      ]
     },
     "metadata": {},
     "output_type": "display_data"
    },
    {
     "name": "stdout",
     "output_type": "stream",
     "text": [
      "Generating HOTRG layers\n"
     ]
    },
    {
     "data": {
      "application/vnd.jupyter.widget-view+json": {
       "model_id": "84fb150a2b3a478b84af1c1c0a6eb738",
       "version_major": 2,
       "version_minor": 0
      },
      "text/plain": [
       "  0%|          | 0/30 [00:00<?, ?it/s]"
      ]
     },
     "metadata": {},
     "output_type": "display_data"
    },
    {
     "name": "stdout",
     "output_type": "stream",
     "text": [
      "HOTRG layers generated\n"
     ]
    },
    {
     "data": {
      "application/vnd.jupyter.widget-view+json": {
       "model_id": "3c2a6e3c18f84ee1b75fdd69f9a1e971",
       "version_major": 2,
       "version_minor": 0
      },
      "text/plain": [
       "  0%|          | 0/30 [00:00<?, ?it/s]"
      ]
     },
     "metadata": {},
     "output_type": "display_data"
    },
    {
     "name": "stdout",
     "output_type": "stream",
     "text": [
      "Generating HOTRG layers\n"
     ]
    },
    {
     "data": {
      "application/vnd.jupyter.widget-view+json": {
       "model_id": "fae2accb59a64e72a284448df4758daa",
       "version_major": 2,
       "version_minor": 0
      },
      "text/plain": [
       "  0%|          | 0/30 [00:00<?, ?it/s]"
      ]
     },
     "metadata": {},
     "output_type": "display_data"
    },
    {
     "ename": "KeyboardInterrupt",
     "evalue": "",
     "output_type": "error",
     "traceback": [
      "\u001b[0;31m---------------------------------------------------------------------------\u001b[0m",
      "\u001b[0;31mKeyboardInterrupt\u001b[0m                         Traceback (most recent call last)",
      "Cell \u001b[0;32mIn[29], line 10\u001b[0m\n\u001b[1;32m      8\u001b[0m model\u001b[39m=\u001b[39mModel(params)\n\u001b[1;32m      9\u001b[0m T\u001b[39m=\u001b[39mmodel\u001b[39m.\u001b[39mget_T0()\n\u001b[0;32m---> 10\u001b[0m layers,Ts,logTotals\u001b[39m=\u001b[39mHOTRG_layers(T,\n\u001b[1;32m     11\u001b[0m                         max_dim\u001b[39m=\u001b[39;49moptions[\u001b[39m'\u001b[39;49m\u001b[39mmax_dim\u001b[39;49m\u001b[39m'\u001b[39;49m],nLayers\u001b[39m=\u001b[39;49moptions[\u001b[39m'\u001b[39;49m\u001b[39mnLayers\u001b[39;49m\u001b[39m'\u001b[39;49m],\n\u001b[1;32m     12\u001b[0m                         options\u001b[39m=\u001b[39;49moptions)\n\u001b[1;32m     14\u001b[0m T_op0_moments,checkerboard\u001b[39m=\u001b[39mmodel\u001b[39m.\u001b[39mget_observable_moments(\u001b[39m'\u001b[39m\u001b[39mmagnetization\u001b[39m\u001b[39m'\u001b[39m,n\u001b[39m=\u001b[39m\u001b[39m4\u001b[39m)\n\u001b[1;32m     15\u001b[0m T_op_momentss,logTotals\u001b[39m=\u001b[39mforward_observalbe_tensor_moments(T_op0_moments,layers,checkerboard\u001b[39m=\u001b[39mcheckerboard,return_layers\u001b[39m=\u001b[39m\u001b[39mTrue\u001b[39;00m,cached_Ts\u001b[39m=\u001b[39mTs)\n",
      "File \u001b[0;32m~/jupyter/AKLT3D/HOTRG.py:311\u001b[0m, in \u001b[0;36mHOTRG_layers\u001b[0;34m(T0, max_dim, nLayers, options)\u001b[0m\n\u001b[1;32m    309\u001b[0m Tref\u001b[39m=\u001b[39mTs[iLayer\u001b[39m+\u001b[39m\u001b[39m1\u001b[39m\u001b[39m-\u001b[39mstride] \u001b[39mif\u001b[39;00m iLayer\u001b[39m+\u001b[39m\u001b[39m1\u001b[39m\u001b[39m-\u001b[39mstride\u001b[39m>\u001b[39m\u001b[39m=\u001b[39m\u001b[39m0\u001b[39m \u001b[39melse\u001b[39;00m \u001b[39mNone\u001b[39;00m\n\u001b[1;32m    310\u001b[0m Told\u001b[39m=\u001b[39mT\n\u001b[0;32m--> 311\u001b[0m T,layer\u001b[39m=\u001b[39mHOTRG_layer(T,T,max_dim\u001b[39m=\u001b[39;49mmax_dim,Tref\u001b[39m=\u001b[39;49mTref,options\u001b[39m=\u001b[39;49moptions)\n\u001b[1;32m    313\u001b[0m layers\u001b[39m.\u001b[39mappend(layer)\n\u001b[1;32m    314\u001b[0m Ts\u001b[39m.\u001b[39mappend(T);logTotals\u001b[39m.\u001b[39mappend(logTotal)\n",
      "File \u001b[0;32m~/jupyter/AKLT3D/HOTRG.py:284\u001b[0m, in \u001b[0;36mHOTRG_layer\u001b[0;34m(T1, T2, max_dim, options, Tref)\u001b[0m\n\u001b[1;32m    282\u001b[0m Tn,hh\u001b[39m=\u001b[39mminimal_canonical_form(Tn,options\u001b[39m=\u001b[39mmcf_options)\n\u001b[1;32m    283\u001b[0m \u001b[39mif\u001b[39;00m Tref \u001b[39mis\u001b[39;00m \u001b[39mnot\u001b[39;00m \u001b[39mNone\u001b[39;00m \u001b[39mand\u001b[39;00m Tn\u001b[39m.\u001b[39mshape\u001b[39m==\u001b[39mTref\u001b[39m.\u001b[39mshape:\n\u001b[0;32m--> 284\u001b[0m     Tn,hh1\u001b[39m=\u001b[39mfix_unitary_gauge(Tn,Tref)\n\u001b[1;32m    285\u001b[0m     hh\u001b[39m=\u001b[39m[h1\u001b[39m@h\u001b[39m \u001b[39mfor\u001b[39;00m h1,h \u001b[39min\u001b[39;00m \u001b[39mzip\u001b[39m(hh1,hh)]\n\u001b[1;32m    287\u001b[0m \u001b[39mif\u001b[39;00m hh \u001b[39mis\u001b[39;00m \u001b[39mnot\u001b[39;00m \u001b[39mNone\u001b[39;00m:\n",
      "File \u001b[0;32m~/jupyter/AKLT3D/fix_gauge.py:152\u001b[0m, in \u001b[0;36mfix_unitary_gauge\u001b[0;34m(T, Tref, options)\u001b[0m\n\u001b[1;32m    149\u001b[0m                 T\u001b[39m=\u001b[39mapply_vector_to_leg(T,di,\u001b[39m2\u001b[39m\u001b[39m*\u001b[39miDim\u001b[39m+\u001b[39m\u001b[39m1\u001b[39m)\n\u001b[1;32m    151\u001b[0m         hs\u001b[39m=\u001b[39m[torch\u001b[39m.\u001b[39mdiag(di)\u001b[39m@h\u001b[39m \u001b[39mfor\u001b[39;00m di,h \u001b[39min\u001b[39;00m \u001b[39mzip\u001b[39m(ds,hs)]\n\u001b[0;32m--> 152\u001b[0m         T,hs1\u001b[39m=\u001b[39mfix_unitary_gauge_svd(T,Tref,nIter\u001b[39m=\u001b[39;49moptions\u001b[39m.\u001b[39;49mphase_iter2)\n\u001b[1;32m    153\u001b[0m         hs\u001b[39m=\u001b[39m[h1\u001b[39m@h\u001b[39m \u001b[39mfor\u001b[39;00m h1,h \u001b[39min\u001b[39;00m \u001b[39mzip\u001b[39m(hs1,hs)]\n\u001b[1;32m    154\u001b[0m \u001b[39mreturn\u001b[39;00m T,hs\n",
      "File \u001b[0;32m~/jupyter/AKLT3D/fix_gauge.py:127\u001b[0m, in \u001b[0;36mfix_unitary_gauge_svd\u001b[0;34m(T, Tref, nIter)\u001b[0m\n\u001b[1;32m    125\u001b[0m \u001b[39mfor\u001b[39;00m _i \u001b[39min\u001b[39;00m \u001b[39mrange\u001b[39m(nIter):\n\u001b[1;32m    126\u001b[0m     \u001b[39mfor\u001b[39;00m iDim \u001b[39min\u001b[39;00m \u001b[39mrange\u001b[39m(spacial_dim):\n\u001b[0;32m--> 127\u001b[0m         env_h\u001b[39m=\u001b[39mdcontract(hh[iDim],eq1\u001b[39m+\u001b[39;49m\u001b[39m'\u001b[39;49m\u001b[39m,\u001b[39;49m\u001b[39m'\u001b[39;49m\u001b[39m+\u001b[39;49meq2\u001b[39m+\u001b[39;49m\u001b[39m'\u001b[39;49m\u001b[39m,\u001b[39;49m\u001b[39m'\u001b[39;49m\u001b[39m+\u001b[39;49meq3,T,Tref,\u001b[39m*\u001b[39;49mhh)\n\u001b[1;32m    128\u001b[0m         hh[\u001b[39m2\u001b[39m\u001b[39m*\u001b[39miDim]\u001b[39m=\u001b[39mget_isometry_from_environment(env_h)\n\u001b[1;32m    129\u001b[0m         hh[\u001b[39m2\u001b[39m\u001b[39m*\u001b[39miDim\u001b[39m+\u001b[39m\u001b[39m1\u001b[39m]\u001b[39m=\u001b[39mhh[\u001b[39m2\u001b[39m\u001b[39m*\u001b[39miDim]\u001b[39m.\u001b[39mconj()\u001b[39m.\u001b[39mclone()\n",
      "File \u001b[0;32m~/jupyter/AKLT3D/fix_gauge.py:21\u001b[0m, in \u001b[0;36mdcontract\u001b[0;34m(derivative, eq, *tensors, **kwargs)\u001b[0m\n\u001b[1;32m     19\u001b[0m eq\u001b[39m=\u001b[39m\u001b[39m'\u001b[39m\u001b[39m,\u001b[39m\u001b[39m'\u001b[39m\u001b[39m.\u001b[39mjoin(eq_terms[:idx]\u001b[39m+\u001b[39meq_terms[idx\u001b[39m+\u001b[39m\u001b[39m1\u001b[39m:])\u001b[39m+\u001b[39m\u001b[39m'\u001b[39m\u001b[39m->\u001b[39m\u001b[39m'\u001b[39m\u001b[39m+\u001b[39meq_terms[idx]\n\u001b[1;32m     20\u001b[0m tensors\u001b[39m=\u001b[39mtensors[:idx]\u001b[39m+\u001b[39mtensors[idx\u001b[39m+\u001b[39m\u001b[39m1\u001b[39m:]\n\u001b[0;32m---> 21\u001b[0m \u001b[39mreturn\u001b[39;00m contract(eq,\u001b[39m*\u001b[39;49mtensors,\u001b[39m*\u001b[39;49m\u001b[39m*\u001b[39;49mkwargs)\n",
      "File \u001b[0;32m~/anaconda3/envs/tf-gpu/lib/python3.9/site-packages/opt_einsum/contract.py:507\u001b[0m, in \u001b[0;36mcontract\u001b[0;34m(*operands, **kwargs)\u001b[0m\n\u001b[1;32m    504\u001b[0m \u001b[39mif\u001b[39;00m gen_expression:\n\u001b[1;32m    505\u001b[0m     \u001b[39mreturn\u001b[39;00m ContractExpression(full_str, contraction_list, constants_dict, \u001b[39m*\u001b[39m\u001b[39m*\u001b[39meinsum_kwargs)\n\u001b[0;32m--> 507\u001b[0m \u001b[39mreturn\u001b[39;00m _core_contract(operands, contraction_list, backend\u001b[39m=\u001b[39;49mbackend, \u001b[39m*\u001b[39;49m\u001b[39m*\u001b[39;49meinsum_kwargs)\n",
      "File \u001b[0;32m~/anaconda3/envs/tf-gpu/lib/python3.9/site-packages/opt_einsum/contract.py:573\u001b[0m, in \u001b[0;36m_core_contract\u001b[0;34m(operands, contraction_list, backend, evaluate_constants, **einsum_kwargs)\u001b[0m\n\u001b[1;32m    570\u001b[0m     right_pos\u001b[39m.\u001b[39mappend(input_right\u001b[39m.\u001b[39mfind(s))\n\u001b[1;32m    572\u001b[0m \u001b[39m# Contract!\u001b[39;00m\n\u001b[0;32m--> 573\u001b[0m new_view \u001b[39m=\u001b[39m _tensordot(\u001b[39m*\u001b[39;49mtmp_operands, axes\u001b[39m=\u001b[39;49m(\u001b[39mtuple\u001b[39;49m(left_pos), \u001b[39mtuple\u001b[39;49m(right_pos)), backend\u001b[39m=\u001b[39;49mbackend)\n\u001b[1;32m    575\u001b[0m \u001b[39m# Build a new view if needed\u001b[39;00m\n\u001b[1;32m    576\u001b[0m \u001b[39mif\u001b[39;00m (tensor_result \u001b[39m!=\u001b[39m results_index) \u001b[39mor\u001b[39;00m handle_out:\n",
      "File \u001b[0;32m~/anaconda3/envs/tf-gpu/lib/python3.9/site-packages/opt_einsum/sharing.py:131\u001b[0m, in \u001b[0;36mtensordot_cache_wrap.<locals>.cached_tensordot\u001b[0;34m(x, y, axes, backend)\u001b[0m\n\u001b[1;32m    128\u001b[0m \u001b[39m@functools\u001b[39m\u001b[39m.\u001b[39mwraps(tensordot)\n\u001b[1;32m    129\u001b[0m \u001b[39mdef\u001b[39;00m \u001b[39mcached_tensordot\u001b[39m(x, y, axes\u001b[39m=\u001b[39m\u001b[39m2\u001b[39m, backend\u001b[39m=\u001b[39m\u001b[39m'\u001b[39m\u001b[39mnumpy\u001b[39m\u001b[39m'\u001b[39m):\n\u001b[1;32m    130\u001b[0m     \u001b[39mif\u001b[39;00m \u001b[39mnot\u001b[39;00m currently_sharing():\n\u001b[0;32m--> 131\u001b[0m         \u001b[39mreturn\u001b[39;00m tensordot(x, y, axes, backend\u001b[39m=\u001b[39;49mbackend)\n\u001b[1;32m    133\u001b[0m     \u001b[39m# hash based on the (axes_x,axes_y) form of axes\u001b[39;00m\n\u001b[1;32m    134\u001b[0m     _save_tensors(x, y)\n",
      "File \u001b[0;32m~/anaconda3/envs/tf-gpu/lib/python3.9/site-packages/opt_einsum/contract.py:374\u001b[0m, in \u001b[0;36m_tensordot\u001b[0;34m(x, y, axes, backend)\u001b[0m\n\u001b[1;32m    371\u001b[0m \u001b[39m\"\"\"Base tensordot.\u001b[39;00m\n\u001b[1;32m    372\u001b[0m \u001b[39m\"\"\"\u001b[39;00m\n\u001b[1;32m    373\u001b[0m fn \u001b[39m=\u001b[39m backends\u001b[39m.\u001b[39mget_func(\u001b[39m'\u001b[39m\u001b[39mtensordot\u001b[39m\u001b[39m'\u001b[39m, backend)\n\u001b[0;32m--> 374\u001b[0m \u001b[39mreturn\u001b[39;00m fn(x, y, axes\u001b[39m=\u001b[39;49maxes)\n",
      "File \u001b[0;32m~/anaconda3/envs/tf-gpu/lib/python3.9/site-packages/opt_einsum/backends/torch.py:54\u001b[0m, in \u001b[0;36mtensordot\u001b[0;34m(x, y, axes)\u001b[0m\n\u001b[1;32m     51\u001b[0m torch, _ \u001b[39m=\u001b[39m _get_torch_and_device()\n\u001b[1;32m     53\u001b[0m \u001b[39mif\u001b[39;00m _TORCH_HAS_TENSORDOT:\n\u001b[0;32m---> 54\u001b[0m     \u001b[39mreturn\u001b[39;00m torch\u001b[39m.\u001b[39;49mtensordot(x, y, dims\u001b[39m=\u001b[39;49maxes)\n\u001b[1;32m     56\u001b[0m xnd \u001b[39m=\u001b[39m x\u001b[39m.\u001b[39mndimension()\n\u001b[1;32m     57\u001b[0m ynd \u001b[39m=\u001b[39m y\u001b[39m.\u001b[39mndimension()\n",
      "File \u001b[0;32m~/anaconda3/envs/tf-gpu/lib/python3.9/site-packages/torch/functional.py:1092\u001b[0m, in \u001b[0;36mtensordot\u001b[0;34m(a, b, dims, out)\u001b[0m\n\u001b[1;32m   1089\u001b[0m     dims_b \u001b[39m=\u001b[39m \u001b[39mlist\u001b[39m(\u001b[39mrange\u001b[39m(dims))\n\u001b[1;32m   1091\u001b[0m \u001b[39mif\u001b[39;00m out \u001b[39mis\u001b[39;00m \u001b[39mNone\u001b[39;00m:\n\u001b[0;32m-> 1092\u001b[0m     \u001b[39mreturn\u001b[39;00m _VF\u001b[39m.\u001b[39;49mtensordot(a, b, dims_a, dims_b)  \u001b[39m# type: ignore[attr-defined]\u001b[39;00m\n\u001b[1;32m   1093\u001b[0m \u001b[39melse\u001b[39;00m:\n\u001b[1;32m   1094\u001b[0m     \u001b[39mreturn\u001b[39;00m _VF\u001b[39m.\u001b[39mtensordot(a, b, dims_a, dims_b, out\u001b[39m=\u001b[39mout)\n",
      "\u001b[0;31mKeyboardInterrupt\u001b[0m: "
     ]
    }
   ],
   "source": [
    "Model=Models['Ising2D']\n",
    "options={'max_dim':16,'nLayers':30,'gilt_enabled':False,'mcf_enabled':True}\n",
    "\n",
    "data=[]\n",
    "for dbeta in tqdm(np.linspace(-1e-3,1e-3,11)):\n",
    "    params=Model.get_default_params()\n",
    "    params['beta']+=dbeta\n",
    "    model=Model(params)\n",
    "    T=model.get_T0()\n",
    "    layers,Ts,logTotals=HOTRG_layers(T,\n",
    "                            max_dim=options['max_dim'],nLayers=options['nLayers'],\n",
    "                            options=options)\n",
    "\n",
    "    T_op0_moments,checkerboard=model.get_observable_moments('magnetization',n=4)\n",
    "    T_op_momentss,logTotals=forward_observalbe_tensor_moments(T_op0_moments,layers,checkerboard=checkerboard,return_layers=True,cached_Ts=Ts)\n",
    "\n",
    "    for iLayer in range(len(Ts)):\n",
    "        logTotal=logTotals[iLayer]\n",
    "        T=T_op_momentss[iLayer][0]\n",
    "        T_op=T_op_momentss[iLayer][1]\n",
    "        T_op2=T_op_momentss[iLayer][2]\n",
    "        T_op3=T_op_momentss[iLayer][3]\n",
    "        T_op4=T_op_momentss[iLayer][4]\n",
    "\n",
    "        logZ=(logTotal+trace_tensor(T).log())/2**iLayer\n",
    "        magnetization=(trace_two_tensors(T_op)/trace_two_tensors(T)).abs().sqrt()\n",
    "        moment2=trace_tensor(T_op2)/trace_tensor(T)\n",
    "        moment4=trace_tensor(T_op4)/trace_tensor(T)\n",
    "\n",
    "        data.append({\n",
    "            'beta':params['beta'],\n",
    "            'iLayer':iLayer,\n",
    "            'logZ':logZ.item(),\n",
    "            'magnetization':magnetization.item(),\n",
    "            'moment2':moment2.item(),\n",
    "            'moment4':moment4.item(),\n",
    "            })"
   ]
  },
  {
   "cell_type": "code",
   "execution_count": 176,
   "metadata": {},
   "outputs": [
    {
     "data": {
      "image/png": "[encoded data removed]",
      "text/plain": [
       "<Figure size 432x288 with 1 Axes>"
      ]
     },
     "metadata": {
      "needs_background": "light"
     },
     "output_type": "display_data"
    }
   ],
   "source": [
    "import pandas as pd\n",
    "import matplotlib.pyplot as plt\n",
    "from IsingSolutions import ising2d as ising2d_exact\n",
    "from scipy.interpolate import interp1d\n",
    "df=pd.DataFrame(data)\n",
    "\n",
    "df['binder']=df['moment4']/df['moment2']**2\n",
    "\n",
    "exact_critical_beta=ising2d_exact.critical_beta\n",
    "nLayers=df['iLayer'].max()+1\n",
    "iLayers=np.arange(0,nLayers,2)\n",
    "beta_min,beta_max=df['beta'].min(),df['beta'].max()\n",
    "betas=np.linspace(beta_min,beta_max,1000)\n",
    "cm=plt.get_cmap('jet')\n",
    "\n",
    "plt.rcParams.update({'font.size': 14,'legend.fontsize':10})\n",
    "\n",
    "plt.figure(figsize=(6,4))\n",
    "plt.title('Binder cumulant')\n",
    "plt.axvline(exact_critical_beta,color='k',linestyle='--',label='Exact critical beta')\n",
    "for iLayer in iLayers:\n",
    "    df1=df[df['iLayer']==iLayer]\n",
    "    plt.plot(df1['beta'],df1['binder'],'+',label='Layer %d'%iLayer,color=cm(iLayer/nLayers))\n",
    "    f1=interp1d(df1['beta'],df1['binder'],kind='linear')\n",
    "    plt.plot(betas,f1(betas),color=cm(iLayer/nLayers,alpha=.5))\n",
    "plt.ylim(1.1,1.2)\n",
    "plt.legend(ncol=1, bbox_to_anchor=(1.05, 1), loc='upper left')\n",
    "plt.show()\n",
    "\n",
    "# plt.figure(figsize=(6,4))\n",
    "# plt.title('Magnetization')\n",
    "# plt.axvline(exact_critical_beta,color='k',linestyle='--',label='Exact critical beta')\n",
    "# for iLayer in iLayers:\n",
    "#     df1=df[df['iLayer']==iLayer]\n",
    "#     plt.plot(df1['beta'],df1['magnetization'],'+',label='Layer %d'%iLayer,color=cm(iLayer/nLayers))\n",
    "#     f1=interp1d(df1['beta'],df1['magnetization'],kind='linear')\n",
    "#     plt.plot(betas,f1(betas),color=cm(iLayer/nLayers,alpha=.5))\n",
    "# plt.legend(ncol=1, bbox_to_anchor=(1.05, 1), loc='upper left')\n",
    "# plt.show()\n"
   ]
  },
  {
   "cell_type": "code",
   "execution_count": 177,
   "metadata": {},
   "outputs": [
    {
     "data": {
      "image/png": "[encoded data removed]",
      "text/plain": [
       "<Figure size 432x288 with 1 Axes>"
      ]
     },
     "metadata": {
      "needs_background": "light"
     },
     "output_type": "display_data"
    }
   ],
   "source": [
    "# for layer i and i+1, find the crossing point of the binder\n",
    "# plot i vs crossing point\n",
    "# find the crossing point by spline fitting\n",
    "\n",
    "from scipy.optimize import minimize,root\n",
    "from scipy.interpolate import interp1d\n",
    "from matplotlib.scale import SymmetricalLogScale\n",
    "\n",
    "crossings=[]\n",
    "beta_min,beta_max=df['beta'].min(),df['beta'].max()\n",
    "betas_interp=np.linspace(beta_min,beta_max,1000)\n",
    "\n",
    "for iLayer in range(0, nLayers-1, 2):\n",
    "    df1 = df[df['iLayer'] == iLayer]\n",
    "    df2 = df[df['iLayer'] == iLayer+2]\n",
    "\n",
    "    f1 = interp1d(df1['beta'], df1['binder'], kind='linear')\n",
    "    f2 = interp1d(df2['beta'], df2['binder'], kind='linear')\n",
    "    \n",
    "    crossing=minimize(lambda x: (f1(x)-f2(x))**2, (beta_min+beta_max)/2, bounds=[(beta_min,beta_max)]).x[0]\n",
    "\n",
    "    # Append the crossing point to the list of crossings\n",
    "    crossings.append(crossing)\n",
    "\n",
    "# Plot the crossing points vs. layer index\n",
    "plt.plot(range(0, nLayers-1, 2), (crossings-exact_critical_beta), 'o-')\n",
    "plt.axhline(0, color='k', linestyle='--')\n",
    "plt.yscale(SymmetricalLogScale(axis='y',base=10, linthresh=np.min(np.abs(crossings-exact_critical_beta))))\n",
    "plt.xticks(range(0, nLayers-1, 2))\n",
    "plt.xlabel('Layer Index')\n",
    "plt.ylabel('Critical Beta Error')\n",
    "plt.show()"
   ]
  },
  {
   "cell_type": "code",
   "execution_count": null,
   "metadata": {},
   "outputs": [],
   "source": []
  }
 ],
 "metadata": {
  "kernelspec": {
   "display_name": "tf-gpu",
   "language": "python",
   "name": "tf-gpu"
  },
  "language_info": {
   "codemirror_mode": {
    "name": "ipython",
    "version": 3
   },
   "file_extension": ".py",
   "mimetype": "text/x-python",
   "name": "python",
   "nbconvert_exporter": "python",
   "pygments_lexer": "ipython3",
   "version": "3.9.15"
  },
  "orig_nbformat": 4
 },
 "nbformat": 4,
 "nbformat_minor": 2
}
